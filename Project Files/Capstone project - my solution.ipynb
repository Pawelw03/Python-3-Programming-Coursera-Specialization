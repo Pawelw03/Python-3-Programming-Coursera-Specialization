{
 "cells": [
  {
   "attachments": {},
   "cell_type": "markdown",
   "metadata": {},
   "source": [
    "# The Project #\n",
    "1. This is a project with minimal scaffolding. Expect to use the the discussion forums to gain insights! It’s not cheating to ask others for opinions or perspectives!\n",
    "2. Be inquisitive, try out new things.\n",
    "3. Use the previous modules for insights into how to complete the functions! You'll have to combine Pillow, OpenCV, and Pytesseract\n",
    "4. There are hints provided in Coursera, feel free to explore the hints if needed. Each hint provide progressively more details on how to solve the issue. This project is intended to be comprehensive and difficult if you do it without the hints.\n",
    "\n",
    "### The Assignment ###\n",
    "Take a [ZIP file](https://en.wikipedia.org/wiki/Zip_(file_format)) of images and process them, using a [library built into python](https://docs.python.org/3/library/zipfile.html) that you need to learn how to use. A ZIP file takes several different files and compresses them, thus saving space, into one single file. The files in the ZIP file we provide are newspaper images (like you saw in week 3). Your task is to write python code which allows one to search through the images looking for the occurrences of keywords and faces. E.g. if you search for \"pizza\" it will return a contact sheet of all of the faces which were located on the newspaper page which mentions \"pizza\". This will test your ability to learn a new ([library](https://docs.python.org/3/library/zipfile.html)), your ability to use OpenCV to detect faces, your ability to use tesseract to do optical character recognition, and your ability to use PIL to composite images together into contact sheets.\n",
    "\n",
    "Each page of the newspapers is saved as a single PNG image in a file called [images.zip](./readonly/images.zip). These newspapers are in english, and contain a variety of stories, advertisements and images. Note: This file is fairly large (~200 MB) and may take some time to work with, I would encourage you to use [small_img.zip](./readonly/small_img.zip) for testing.\n",
    "\n",
    "Here's an example of the output expected. Using the [small_img.zip](./readonly/small_img.zip) file, if I search for the string \"Christopher\" I should see the following image:\n",
    "\n",
    "![Christopher Search](./readonly/small_project.png)\n",
    "\n",
    "If I were to use the [images.zip](./readonly/images.zip) file and search for \"Mark\" I should see the following image (note that there are times when there are no faces on a page, but a word is found!):\n",
    "\n",
    "![Mark Search](./readonly/large_project.png)\n",
    "\n",
    "Note: That big file can take some time to process - for me it took nearly ten minutes! Use the small one for testing."
   ]
  },
  {
   "cell_type": "code",
   "execution_count": null,
   "metadata": {},
   "outputs": [],
   "source": [
    "import zipfile as zf\n",
    "\n",
    "\n",
    "from PIL import Image\n",
    "from PIL import ImageDraw, ImageFont\n",
    "import pytesseract\n",
    "import cv2 as cv\n",
    "import numpy as np\n",
    "import math\n",
    "\n",
    "# loading the face detection classifier\n",
    "face_cascade = cv.CascadeClassifier('readonly/haarcascade_frontalface_default.xml')\n",
    "\n",
    "# the rest is up to you!"
   ]
  },
  {
   "attachments": {},
   "cell_type": "markdown",
   "metadata": {},
   "source": [
    "# The Solution #"
   ]
  },
  {
   "attachments": {},
   "cell_type": "markdown",
   "metadata": {},
   "source": [
    "### Load pages"
   ]
  },
  {
   "cell_type": "code",
   "execution_count": null,
   "metadata": {},
   "outputs": [],
   "source": [
    "def load_imgs_from_zip(path):\n",
    "    ''' Load all images archived in zip in given path.\n",
    "\n",
    "    :param path: A string path to the ZIP file\n",
    "    :return page_imgs: A dictionary of opened images\n",
    "    '''\n",
    "    with zf.ZipFile(path) as zipF:\n",
    "        page_imgs = {page: Image.open(zipF.open(page)) for page in zipF.namelist()}\n",
    "    return page_imgs"
   ]
  },
  {
   "attachments": {},
   "cell_type": "markdown",
   "metadata": {},
   "source": [
    "### Find Images with given text"
   ]
  },
  {
   "cell_type": "code",
   "execution_count": null,
   "metadata": {},
   "outputs": [],
   "source": [
    "def checkIfTextInImg(text, img):\n",
    "    return (text in pytesseract.image_to_string(img))\n",
    "\n",
    "def get_imgs_with_text(text, path):\n",
    "    page_imgs = load_imgs_from_zip(path)\n",
    "    return {imgName: page_imgs[imgName] for imgName in page_imgs if checkIfTextInImg(text, page_imgs[imgName])}\n"
   ]
  },
  {
   "attachments": {},
   "cell_type": "markdown",
   "metadata": {},
   "source": [
    "### Get faces from selected pages"
   ]
  },
  {
   "cell_type": "code",
   "execution_count": null,
   "metadata": {},
   "outputs": [],
   "source": [
    "def show_rects(faces, pil_img):\n",
    "    # Set our drawing context\n",
    "    drawing=ImageDraw.Draw(pil_img)\n",
    "    # And plot all of the rectangles in faces\n",
    "    for x,y,w,h in faces:\n",
    "        drawing.rectangle((x,y,x+w,y+h), outline=\"red\")\n",
    "    display(pil_img)\n",
    "\n",
    "def getFaceImgs(faces, page_img):\n",
    "    ''' Gets faces' images from single page\n",
    "\n",
    "    @param faces: list with face areas location [top, left, height, widthb]\n",
    "    @param page_img: PIL.Image object, a page to get faces from\n",
    "    @return: list of face imgs, PIL.Image objects\n",
    "    '''\n",
    "    return [page_img.crop((x,y,x+w, y+h)) for x,y,w,h in faces]\n",
    "\n",
    "def processPages(pages):\n",
    "    ''' Gets faces' images from single page\n",
    "\n",
    "    @param faces: list with face areas location [top, left, height, widthb]\n",
    "    @param page_img: PIL.Image object, a page to get faces from\n",
    "    @return: dictionary {page_name: list of faces}\n",
    "    '''\n",
    "    pageFaces = {}\n",
    "    for pageImg in pages:\n",
    "        cv_img = cv.cvtColor(np.array(pages[pageImg]), cv.COLOR_RGB2GRAY)\n",
    "        faces = face_cascade.detectMultiScale(cv_img, 1.35)\n",
    "        pageFaces[pageImg] = getFaceImgs(faces, pages[pageImg].copy())\n",
    "    return pageFaces\n",
    "\n",
    "# print(processPages(imgs_with_text))\n"
   ]
  },
  {
   "cell_type": "code",
   "execution_count": null,
   "metadata": {},
   "outputs": [],
   "source": [
    "def resize_img(img, max_width):\n",
    "    ''' Resizes image if its width is bigger than max_width\n",
    "\n",
    "    @param img: PIL image\n",
    "    @param max_width: max width of the modified image\n",
    "    @return: resized image\n",
    "    '''\n",
    "\n",
    "    if img.width > max_width:\n",
    "        resize_ratio = max_width / img.width\n",
    "        new_size = (max_width, int(img.height * resize_ratio))\n",
    "        processed_img = (img.copy().resize( new_size, Image.LANCZOS))\n",
    "    else:\n",
    "        processed_img = img\n",
    "    return processed_img\n",
    "\n",
    "\n",
    "def resize_imgs(pageFaces, max_width):\n",
    "    ''' Resizes all retrieved faces if their width is bigger than max_width\n",
    "\n",
    "    @param img: PIL image\n",
    "    @param max_width: max width of the modified image\n",
    "    @return: list with resized images\n",
    "    '''\n",
    "    for page in pageFaces:\n",
    "        pageFaces[page] = [resize_img(faceImg, max_width) for faceImg in pageFaces[page]]\n",
    "    return pageFaces"
   ]
  },
  {
   "attachments": {},
   "cell_type": "markdown",
   "metadata": {},
   "source": [
    "## Create a contact sheet"
   ]
  },
  {
   "cell_type": "code",
   "execution_count": null,
   "metadata": {},
   "outputs": [],
   "source": [
    "\n",
    "def createPageContactSheet(faceImgs, face_img_width, face_img_height, img_columns):\n",
    "    ''' :return: A page contact sheet including all found faces on the single page.\n",
    "    '''\n",
    "    img_rows = math.ceil(len(faceImgs) / img_columns)\n",
    "    first_image = faceImgs[0]\n",
    "    page_contact_sheet = Image.new(first_image.mode, (face_img_width*img_columns, face_img_height*img_rows))\n",
    "    x=0\n",
    "    y=0\n",
    "\n",
    "    for img in faceImgs:\n",
    "        page_contact_sheet.paste(img, (x, y) )\n",
    "        if x+face_img_width >= page_contact_sheet.width:\n",
    "            x=0\n",
    "            y=y+face_img_height\n",
    "        else:\n",
    "            x=x+face_img_width\n",
    "\n",
    "    return page_contact_sheet\n",
    "\n",
    "\n",
    "def getPageContactSheets(pageFaces, face_img_width, face_img_height, img_columns):\n",
    "    ''' :return: tuple with final contact sheet including all page contact sheets and total height of all contact sheets in pixels.\n",
    "    '''\n",
    "    pageContactSheets = {}\n",
    "    total_height = 0\n",
    "    for page in pageFaces:\n",
    "        pageResult = {}\n",
    "        if len(pageFaces[page]):\n",
    "            pageResult['result'] = 'Results found in file {}'.format(page)\n",
    "            pageResult['contactSheet'] = createPageContactSheet(pageFaces[page], face_img_width, face_img_height, img_columns)\n",
    "            total_height += pageResult['contactSheet'].height + 30  # height + one line of text\n",
    "            pageContactSheets[page] = pageResult\n",
    "        else:\n",
    "            pageResult['result'] = '''Results found in file {}\\nBut there were no faces in that file!'''.format(page)\n",
    "            total_height += 60  # two lines of text\n",
    "            pageContactSheets[page] = pageResult\n",
    "    \n",
    "    return (pageContactSheets, total_height)\n",
    "\n",
    "\n",
    "def displayContactSheet(word, zip):\n",
    "    imgs_with_text = get_imgs_with_text(word, zip)\n",
    "\n",
    "    max_width = 100\n",
    "    pageFaces = processPages(imgs_with_text)\n",
    "    pageFaces = resize_imgs(pageFaces, max_width)\n",
    "\n",
    "    filteredPageFaces = {}\n",
    "    for page in pageFaces:\n",
    "        filteredPage = []\n",
    "        for faceImg in pageFaces[page]:\n",
    "            face_cv_img = cv.cvtColor(np.array(faceImg), cv.COLOR_RGB2GRAY)\n",
    "            faceCheck = face_cascade.detectMultiScale(face_cv_img)\n",
    "            if len(faceCheck) != 0:\n",
    "                filteredPage.append(faceImg)\n",
    "            # display(faceImg)\n",
    "        filteredPageFaces[page] = filteredPage\n",
    "\n",
    "    face_img_width  = 100\n",
    "    face_img_height = 100\n",
    "    img_columns = 5\n",
    "    total_width = face_img_width * img_columns\n",
    "    pageContactSheets, total_height = getPageContactSheets(filteredPageFaces, face_img_width, face_img_height, img_columns)\n",
    "\n",
    "    final_contact_sheet = Image.new('RGB', (total_width+20, total_height+40), color=(255,255,255))\n",
    "    x=10\n",
    "    y=10\n",
    "    font = ImageFont.truetype(\"calibri.ttf\", 18)\n",
    "\n",
    "    for page in pageContactSheets:\n",
    "        if 'contactSheet' in pageContactSheets[page]:\n",
    "            img = pageContactSheets[page]['contactSheet']\n",
    "            caption = pageContactSheets[page]['result']\n",
    "            # get a drawing context\n",
    "            d = ImageDraw.Draw(final_contact_sheet)\n",
    "            # draw multiline text\n",
    "            d.text((x,y), caption, font=font, fill=(0, 0, 0))\n",
    "            y = y + 30\n",
    "            final_contact_sheet.paste(img, (x, y) )\n",
    "\n",
    "            y = y+img.height+10\n",
    "        else:\n",
    "            caption = pageContactSheets[page]['result']\n",
    "            d = ImageDraw.Draw(final_contact_sheet)\n",
    "            d.multiline_text((x,y), caption, font=font, fill=(0, 0, 0))\n",
    "            y = y + 38\n",
    "\n",
    "\n",
    "    display(final_contact_sheet)\n",
    "\n",
    "\n"
   ]
  },
  {
   "attachments": {},
   "cell_type": "markdown",
   "metadata": {},
   "source": [
    "## Generate final output"
   ]
  },
  {
   "cell_type": "code",
   "execution_count": null,
   "metadata": {},
   "outputs": [],
   "source": [
    "displayContactSheet('Christopher', 'readonly/small_img.zip')"
   ]
  },
  {
   "cell_type": "code",
   "execution_count": null,
   "metadata": {},
   "outputs": [],
   "source": [
    "displayContactSheet('Mark', 'readonly/images.zip')"
   ]
  }
 ],
 "metadata": {
  "anaconda-cloud": {},
  "kernelspec": {
   "display_name": "base",
   "language": "python",
   "name": "python3"
  },
  "language_info": {
   "codemirror_mode": {
    "name": "ipython",
    "version": 3
   },
   "file_extension": ".py",
   "mimetype": "text/x-python",
   "name": "python",
   "nbconvert_exporter": "python",
   "pygments_lexer": "ipython3",
   "version": "3.9.13"
  },
  "vscode": {
   "interpreter": {
    "hash": "229ef935f5024cf52bad3f597ce2443d79806cdc4af19ac44766b98cefd93679"
   }
  }
 },
 "nbformat": 4,
 "nbformat_minor": 2
}
